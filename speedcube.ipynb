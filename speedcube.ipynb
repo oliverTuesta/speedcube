{
 "cells": [
  {
   "cell_type": "code",
   "execution_count": 37,
   "id": "b71dc175",
   "metadata": {},
   "outputs": [],
   "source": [
    "import pandas as pd\n",
    "import numpy as np \n",
    "import matplotlib.pyplot as plt\n",
    "from sklearn import linear_model"
   ]
  },
  {
   "cell_type": "code",
   "execution_count": 38,
   "id": "3c12a306",
   "metadata": {
    "scrolled": true
   },
   "outputs": [],
   "source": [
    "data = pd.read_json('data/times.json')['session1'].values"
   ]
  },
  {
   "cell_type": "code",
   "execution_count": 39,
   "id": "abe43589",
   "metadata": {},
   "outputs": [],
   "source": [
    "# get only the times\n",
    "times = []\n",
    "i = 1\n",
    "for l in data:\n",
    "    nl = list()\n",
    "    nl.append(i)\n",
    "    nl.append(l[0][1]/1000)\n",
    "    times.append(nl)\n",
    "    i += 1\n",
    "times = np.array(times)"
   ]
  },
  {
   "cell_type": "code",
   "execution_count": 40,
   "id": "29f27a98",
   "metadata": {},
   "outputs": [
    {
     "data": {
      "text/plain": [
       "(14.358800000000002, 19.5717)"
      ]
     },
     "execution_count": 40,
     "metadata": {},
     "output_type": "execute_result"
    }
   ],
   "source": [
    "# Calculate the 10th and 90th percentile thresholds to filter the times\n",
    "lower_threshold = np.percentile(times[:,1], 10)\n",
    "upper_threshold = np.percentile(times[:,1], 90)\n",
    "\n",
    "filtered_times = times[(times[:,1] > lower_threshold) & (times[:,1] < upper_threshold)]\n",
    "lower_threshold, upper_threshold"
   ]
  },
  {
   "cell_type": "code",
   "execution_count": 41,
   "id": "47a76b5d",
   "metadata": {},
   "outputs": [
    {
     "data": {
      "text/plain": [
       "(17.42311831103679, -0.004349448320558161)"
      ]
     },
     "execution_count": 41,
     "metadata": {},
     "output_type": "execute_result"
    }
   ],
   "source": [
    "y = times[:, 1]\n",
    "X = times[:, 0]\n",
    "\n",
    "lin1 = linear_model.LinearRegression()\n",
    "Xsample = np.c_[X]\n",
    "ysample = np.c_[y]\n",
    "lin1.fit(Xsample, ysample)\n",
    "t0, t1 = lin1.intercept_[0], lin1.coef_[0][0]\n",
    "t0, t1"
   ]
  },
  {
   "cell_type": "code",
   "execution_count": 42,
   "id": "0f67fca9",
   "metadata": {
    "scrolled": true
   },
   "outputs": [
    {
     "data": {
      "image/png": "[encoded data removed]",
      "text/plain": [
       "<Figure size 432x288 with 1 Axes>"
      ]
     },
     "metadata": {
      "needs_background": "light"
     },
     "output_type": "display_data"
    }
   ],
   "source": [
    "# plot the graph using matplotlib\n",
    "plt.scatter(X, y, s=5)\n",
    "plt.xlabel('Index')\n",
    "plt.ylabel('Time')\n",
    "plt.title('Time vs Index')\n",
    "plt.plot(X, t0 + t1*X, \"b\")\n",
    "plt.show()\n"
   ]
  },
  {
   "cell_type": "code",
   "execution_count": 43,
   "id": "d57e3302",
   "metadata": {},
   "outputs": [
    {
     "name": "stdout",
     "output_type": "stream",
     "text": [
      "[[13.07366999]]\n"
     ]
    }
   ],
   "source": [
    "# Machine learning to predict my average in certain number of solves\n",
    "import sklearn.linear_model\n",
    "model = sklearn.linear_model.LinearRegression()\n",
    "model.fit(Xsample, ysample)\n",
    "X_new = [[1000]]\n",
    "print(model.predict(X_new))"
   ]
  },
  {
   "cell_type": "code",
   "execution_count": 44,
   "id": "38ab267b",
   "metadata": {},
   "outputs": [
    {
     "data": {
      "image/png": "[encoded data removed]",
      "text/plain": [
       "<Figure size 432x288 with 1 Axes>"
      ]
     },
     "metadata": {
      "needs_background": "light"
     },
     "output_type": "display_data"
    }
   ],
   "source": [
    "y = filtered_times[:, 1]\n",
    "X = filtered_times[:, 0]\n",
    "\n",
    "from sklearn import linear_model\n",
    "lin1 = linear_model.LinearRegression()\n",
    "Xsample = np.c_[X]\n",
    "ysample = np.c_[y]\n",
    "lin1.fit(Xsample, ysample)\n",
    "t0, t1 = lin1.intercept_[0], lin1.coef_[0][0]\n",
    "t0, t1\n",
    "\n",
    "# plot the graph using matplotlib\n",
    "plt.scatter(X, y, s=5)\n",
    "plt.xlabel('Index')\n",
    "plt.ylabel('Filtered Time')\n",
    "plt.title('Filtered Time vs Index')\n",
    "plt.plot(X, t0 + t1*X, \"b\")\n",
    "plt.show()"
   ]
  },
  {
   "cell_type": "code",
   "execution_count": 45,
   "id": "bcaa7992",
   "metadata": {},
   "outputs": [
    {
     "name": "stdout",
     "output_type": "stream",
     "text": [
      "[[16.69296632]]\n"
     ]
    }
   ],
   "source": [
    "# Machine learning to predict my average in certain number of solves\n",
    "model = sklearn.linear_model.LinearRegression()\n",
    "model.fit(Xsample, ysample)\n",
    "X_new = [[200]]\n",
    "print(model.predict(X_new))"
   ]
  }
 ],
 "metadata": {
  "kernelspec": {
   "display_name": "Python 3 (ipykernel)",
   "language": "python",
   "name": "python3"
  },
  "language_info": {
   "codemirror_mode": {
    "name": "ipython",
    "version": 3
   },
   "file_extension": ".py",
   "mimetype": "text/x-python",
   "name": "python",
   "nbconvert_exporter": "python",
   "pygments_lexer": "ipython3",
   "version": "3.8.12"
  }
 },
 "nbformat": 4,
 "nbformat_minor": 5
}
